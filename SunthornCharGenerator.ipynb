{
  "cells": [
    {
      "attachments": {},
      "cell_type": "markdown",
      "metadata": {
        "colab_type": "text",
        "id": "sXwVVs62kVoF"
      },
      "source": [
        "# **Import modules and data file**"
      ]
    },
    {
      "cell_type": "code",
      "execution_count": 5,
      "metadata": {
        "colab": {},
        "colab_type": "code",
        "id": "yl6MpduqLU2a"
      },
      "outputs": [],
      "source": [
        "from keras.callbacks import Callback, ModelCheckpoint, TensorBoard\n",
        "from keras.layers import Dense, Dropout, Embedding, LSTM, TimeDistributed, Flatten\n",
        "from keras.models import load_model, Sequential\n",
        "from keras.optimizers import Adam\n",
        "from tensorflow.keras.preprocessing.sequence import pad_sequences\n",
        "from pickle import dump, load\n",
        "from keras.utils import to_categorical\n",
        "import matplotlib.pyplot as plt\n",
        "import numpy as np\n",
        "import random\n",
        "from sklearn.model_selection import train_test_split"
      ]
    },
    {
      "cell_type": "code",
      "execution_count": 4,
      "metadata": {
        "colab": {},
        "colab_type": "code",
        "id": "xk1gCKPwyF6P"
      },
      "outputs": [],
      "source": [
        "# import file\n",
        "def load_file(filename):\n",
        "    \"\"\"\n",
        "    - load file from filename and return a really long string\n",
        "    - file is expected to be cleaned beforehand\n",
        "    \"\"\"\n",
        "    file = open(filename, encoding = \"utf8\")\n",
        "    raw_text = file.read()[:20000]\n",
        "    file.close()\n",
        "    return raw_text\n",
        "\n",
        "\n",
        "def create_dict(raw_text):\n",
        "    \"\"\"\n",
        "    create character dictionary and mapping to indices from data file\n",
        "    \"\"\"\n",
        "    char = sorted(set(raw_text))\n",
        "    mapping = {c : i for i, c in enumerate(char)}\n",
        "    vocab_size = len(mapping)\n",
        "    return mapping, vocab_size\n",
        "\n",
        "def fixed_len_seq(raw_text, seq_len):\n",
        "    \"\"\"\n",
        "    split data into sequences with fixed lengths\n",
        "    \"\"\"\n",
        "    sequences = list()\n",
        "    for i in range(seq_len, len(raw_text)):\n",
        "        seq = raw_text[i-seq_len:i+1]\n",
        "        sequences.append(seq)\n",
        "    return sequences\n",
        "\n",
        "def encode(sequences, encoder):\n",
        "    \"\"\"\n",
        "    encode sequences text into integers\n",
        "    \"\"\"\n",
        "    result = []\n",
        "    for seq in sequences:\n",
        "        encoded_seq = [encoder[char] for char in seq]\n",
        "        result.append(encoded_seq)\n",
        "    return result\n",
        "        \n",
        "\n",
        "def create_xy(sequences, vocab_size):\n",
        "    # change here to adapt expected input shape for RNN layers\n",
        "    \"\"\"\n",
        "    convert encoded sequences into predictor & label\n",
        "    \"\"\"\n",
        "    sequences = np.array(sequences)\n",
        "    X, y = sequences[:,:-1], sequences[:,-1]\n",
        "    sequences = [to_categorical(x, num_classes = vocab_size) for x in X]\n",
        "    X = np.array(sequences)\n",
        "    y = to_categorical(y, num_classes = vocab_size)\n",
        "    return X,y\n",
        "\n",
        "        \n",
        "def preprocess(filename, seq_len):\n",
        "    \"\"\"\n",
        "    preprocess file intro appropriate format for Keras\n",
        "    \"\"\"\n",
        "    raw_text = load_file(filename)\n",
        "    sequences = fixed_len_seq(raw_text, seq_len)\n",
        "    mapping, vocab_size = create_dict(raw_text)\n",
        "    vocab_size = 71\n",
        "    encoded_seq = encode(sequences, mapping)\n",
        "    x, y = create_xy(encoded_seq, vocab_size)\n",
        "    return x, y, mapping, vocab_size"
      ]
    },
    {
      "attachments": {},
      "cell_type": "markdown",
      "metadata": {
        "colab_type": "text",
        "id": "4gzlV0jLkMq1"
      },
      "source": [
        "# **Data preprocessing**"
      ]
    },
    {
      "cell_type": "code",
      "execution_count": 7,
      "metadata": {
        "colab": {},
        "colab_type": "code",
        "id": "m3aZ7EeA31Tu"
      },
      "outputs": [],
      "source": [
        "X, y, mapping, vocab_size = preprocess('Dataset/TextAfterNormalize.txt', 64)"
      ]
    },
    {
      "cell_type": "code",
      "execution_count": 8,
      "metadata": {
        "colab": {
          "base_uri": "https://localhost:8080/",
          "height": 34
        },
        "colab_type": "code",
        "id": "bKE-fVhfYIDF",
        "outputId": "c3c6a930-995a-4546-a30c-67b253e2a113"
      },
      "outputs": [
        {
          "name": "stdout",
          "output_type": "stream",
          "text": [
            "(19936, 64, 71)\n",
            "(19936, 71)\n"
          ]
        }
      ],
      "source": [
        "print(X.shape)\n",
        "print(y.shape)"
      ]
    },
    {
      "cell_type": "code",
      "execution_count": 11,
      "metadata": {},
      "outputs": [],
      "source": [
        "# split data X, y into train val test\n",
        "X_train, X_test, y_train, y_test = train_test_split(X, y, test_size = 0.1)\n",
        "X_train, X_val, y_train, y_val = train_test_split(X_train, y_train, test_size = 0.2)"
      ]
    },
    {
      "cell_type": "code",
      "execution_count": 14,
      "metadata": {},
      "outputs": [
        {
          "name": "stdout",
          "output_type": "stream",
          "text": [
            "(14353, 64, 71)\n",
            "(14353, 71)\n",
            "=====================\n",
            "(3589, 64, 71)\n",
            "(3589, 71)\n",
            "=====================\n",
            "(1994, 64, 71)\n",
            "(1994, 71)\n"
          ]
        }
      ],
      "source": [
        "print(X_train.shape)\n",
        "print(y_train.shape)\n",
        "print('=====================')\n",
        "print(X_val.shape)\n",
        "print(y_val.shape)\n",
        "print('=====================')\n",
        "print(X_test.shape)\n",
        "print(y_test.shape)"
      ]
    },
    {
      "attachments": {},
      "cell_type": "markdown",
      "metadata": {
        "colab_type": "text",
        "id": "5MzREYwqlUzH"
      },
      "source": [
        "# **Model training**"
      ]
    },
    {
      "cell_type": "code",
      "execution_count": 15,
      "metadata": {
        "colab": {
          "base_uri": "https://localhost:8080/",
          "height": 466
        },
        "colab_type": "code",
        "id": "8S3RtwoB6m8E",
        "outputId": "e467df98-a94f-4d30-d84e-bd6fe8229113"
      },
      "outputs": [
        {
          "name": "stderr",
          "output_type": "stream",
          "text": [
            "2023-05-22 09:37:50.338728: I tensorflow/compiler/xla/stream_executor/cuda/cuda_gpu_executor.cc:996] successful NUMA node read from SysFS had negative value (-1), but there must be at least one NUMA node, so returning NUMA node zero. See more at https://github.com/torvalds/linux/blob/v6.0/Documentation/ABI/testing/sysfs-bus-pci#L344-L355\n",
            "2023-05-22 09:37:50.423530: I tensorflow/compiler/xla/stream_executor/cuda/cuda_gpu_executor.cc:996] successful NUMA node read from SysFS had negative value (-1), but there must be at least one NUMA node, so returning NUMA node zero. See more at https://github.com/torvalds/linux/blob/v6.0/Documentation/ABI/testing/sysfs-bus-pci#L344-L355\n",
            "2023-05-22 09:37:50.423753: I tensorflow/compiler/xla/stream_executor/cuda/cuda_gpu_executor.cc:996] successful NUMA node read from SysFS had negative value (-1), but there must be at least one NUMA node, so returning NUMA node zero. See more at https://github.com/torvalds/linux/blob/v6.0/Documentation/ABI/testing/sysfs-bus-pci#L344-L355\n",
            "2023-05-22 09:37:50.427210: I tensorflow/compiler/xla/stream_executor/cuda/cuda_gpu_executor.cc:996] successful NUMA node read from SysFS had negative value (-1), but there must be at least one NUMA node, so returning NUMA node zero. See more at https://github.com/torvalds/linux/blob/v6.0/Documentation/ABI/testing/sysfs-bus-pci#L344-L355\n",
            "2023-05-22 09:37:50.427424: I tensorflow/compiler/xla/stream_executor/cuda/cuda_gpu_executor.cc:996] successful NUMA node read from SysFS had negative value (-1), but there must be at least one NUMA node, so returning NUMA node zero. See more at https://github.com/torvalds/linux/blob/v6.0/Documentation/ABI/testing/sysfs-bus-pci#L344-L355\n",
            "2023-05-22 09:37:50.427575: I tensorflow/compiler/xla/stream_executor/cuda/cuda_gpu_executor.cc:996] successful NUMA node read from SysFS had negative value (-1), but there must be at least one NUMA node, so returning NUMA node zero. See more at https://github.com/torvalds/linux/blob/v6.0/Documentation/ABI/testing/sysfs-bus-pci#L344-L355\n",
            "2023-05-22 09:37:51.141456: I tensorflow/compiler/xla/stream_executor/cuda/cuda_gpu_executor.cc:996] successful NUMA node read from SysFS had negative value (-1), but there must be at least one NUMA node, so returning NUMA node zero. See more at https://github.com/torvalds/linux/blob/v6.0/Documentation/ABI/testing/sysfs-bus-pci#L344-L355\n",
            "2023-05-22 09:37:51.141893: I tensorflow/compiler/xla/stream_executor/cuda/cuda_gpu_executor.cc:996] successful NUMA node read from SysFS had negative value (-1), but there must be at least one NUMA node, so returning NUMA node zero. See more at https://github.com/torvalds/linux/blob/v6.0/Documentation/ABI/testing/sysfs-bus-pci#L344-L355\n",
            "2023-05-22 09:37:51.142060: I tensorflow/compiler/xla/stream_executor/cuda/cuda_gpu_executor.cc:996] successful NUMA node read from SysFS had negative value (-1), but there must be at least one NUMA node, so returning NUMA node zero. See more at https://github.com/torvalds/linux/blob/v6.0/Documentation/ABI/testing/sysfs-bus-pci#L344-L355\n",
            "2023-05-22 09:37:51.142279: I tensorflow/core/common_runtime/gpu/gpu_device.cc:1635] Created device /job:localhost/replica:0/task:0/device:GPU:0 with 561 MB memory:  -> device: 0, name: NVIDIA GeForce GTX 1650, pci bus id: 0000:01:00.0, compute capability: 7.5\n",
            "2023-05-22 09:37:51.660225: I tensorflow/core/common_runtime/executor.cc:1197] [/device:CPU:0] (DEBUG INFO) Executor start aborting (this does not indicate an error and you can ignore this message): INVALID_ARGUMENT: You must feed a value for placeholder tensor 'gradients/split_2_grad/concat/split_2/split_dim' with dtype int32\n",
            "\t [[{{node gradients/split_2_grad/concat/split_2/split_dim}}]]\n",
            "2023-05-22 09:37:51.662192: I tensorflow/core/common_runtime/executor.cc:1197] [/device:CPU:0] (DEBUG INFO) Executor start aborting (this does not indicate an error and you can ignore this message): INVALID_ARGUMENT: You must feed a value for placeholder tensor 'gradients/split_grad/concat/split/split_dim' with dtype int32\n",
            "\t [[{{node gradients/split_grad/concat/split/split_dim}}]]\n",
            "2023-05-22 09:37:51.663424: I tensorflow/core/common_runtime/executor.cc:1197] [/device:CPU:0] (DEBUG INFO) Executor start aborting (this does not indicate an error and you can ignore this message): INVALID_ARGUMENT: You must feed a value for placeholder tensor 'gradients/split_1_grad/concat/split_1/split_dim' with dtype int32\n",
            "\t [[{{node gradients/split_1_grad/concat/split_1/split_dim}}]]\n",
            "2023-05-22 09:37:52.013399: I tensorflow/core/common_runtime/executor.cc:1197] [/device:CPU:0] (DEBUG INFO) Executor start aborting (this does not indicate an error and you can ignore this message): INVALID_ARGUMENT: You must feed a value for placeholder tensor 'gradients/split_2_grad/concat/split_2/split_dim' with dtype int32\n",
            "\t [[{{node gradients/split_2_grad/concat/split_2/split_dim}}]]\n",
            "2023-05-22 09:37:52.014925: I tensorflow/core/common_runtime/executor.cc:1197] [/device:CPU:0] (DEBUG INFO) Executor start aborting (this does not indicate an error and you can ignore this message): INVALID_ARGUMENT: You must feed a value for placeholder tensor 'gradients/split_grad/concat/split/split_dim' with dtype int32\n",
            "\t [[{{node gradients/split_grad/concat/split/split_dim}}]]\n",
            "2023-05-22 09:37:52.015867: I tensorflow/core/common_runtime/executor.cc:1197] [/device:CPU:0] (DEBUG INFO) Executor start aborting (this does not indicate an error and you can ignore this message): INVALID_ARGUMENT: You must feed a value for placeholder tensor 'gradients/split_1_grad/concat/split_1/split_dim' with dtype int32\n",
            "\t [[{{node gradients/split_1_grad/concat/split_1/split_dim}}]]\n"
          ]
        },
        {
          "name": "stdout",
          "output_type": "stream",
          "text": [
            "Model: \"sequential\"\n",
            "_________________________________________________________________\n",
            " Layer (type)                Output Shape              Param #   \n",
            "=================================================================\n",
            " embedding (Embedding)       (None, 64, 32)            2272      \n",
            "                                                                 \n",
            " dropout (Dropout)           (None, 64, 32)            0         \n",
            "                                                                 \n",
            " lstm (LSTM)                 (None, 64, 512)           1116160   \n",
            "                                                                 \n",
            " dropout_1 (Dropout)         (None, 64, 512)           0         \n",
            "                                                                 \n",
            " lstm_1 (LSTM)               (None, 64, 512)           2099200   \n",
            "                                                                 \n",
            " dropout_2 (Dropout)         (None, 64, 512)           0         \n",
            "                                                                 \n",
            " lstm_2 (LSTM)               (None, 512)               2099200   \n",
            "                                                                 \n",
            " dropout_3 (Dropout)         (None, 512)               0         \n",
            "                                                                 \n",
            " dense (Dense)               (None, 71)                36423     \n",
            "                                                                 \n",
            "=================================================================\n",
            "Total params: 5,353,255\n",
            "Trainable params: 5,353,255\n",
            "Non-trainable params: 0\n",
            "_________________________________________________________________\n",
            "None\n"
          ]
        },
        {
          "name": "stderr",
          "output_type": "stream",
          "text": [
            "2023-05-22 09:37:52.339486: I tensorflow/core/common_runtime/executor.cc:1197] [/device:CPU:0] (DEBUG INFO) Executor start aborting (this does not indicate an error and you can ignore this message): INVALID_ARGUMENT: You must feed a value for placeholder tensor 'gradients/split_2_grad/concat/split_2/split_dim' with dtype int32\n",
            "\t [[{{node gradients/split_2_grad/concat/split_2/split_dim}}]]\n",
            "2023-05-22 09:37:52.341553: I tensorflow/core/common_runtime/executor.cc:1197] [/device:CPU:0] (DEBUG INFO) Executor start aborting (this does not indicate an error and you can ignore this message): INVALID_ARGUMENT: You must feed a value for placeholder tensor 'gradients/split_grad/concat/split/split_dim' with dtype int32\n",
            "\t [[{{node gradients/split_grad/concat/split/split_dim}}]]\n",
            "2023-05-22 09:37:52.342758: I tensorflow/core/common_runtime/executor.cc:1197] [/device:CPU:0] (DEBUG INFO) Executor start aborting (this does not indicate an error and you can ignore this message): INVALID_ARGUMENT: You must feed a value for placeholder tensor 'gradients/split_1_grad/concat/split_1/split_dim' with dtype int32\n",
            "\t [[{{node gradients/split_1_grad/concat/split_1/split_dim}}]]\n"
          ]
        }
      ],
      "source": [
        "# model 1\n",
        "# define model\n",
        "batch_size = 64\n",
        "drop_rate = 0.5\n",
        "seq_len = 64\n",
        "embedding_size = 32\n",
        "rnn_size = 512\n",
        "num_layers = 3\n",
        "clip_norm = 5\n",
        "learning_rate = 0.001\n",
        "\n",
        "# build model\n",
        "model = Sequential()\n",
        "model.add(Embedding(vocab_size, embedding_size, input_shape = (seq_len,)))\n",
        "model.add(Dropout(drop_rate))\n",
        "for _ in range(num_layers-1):\n",
        "    model.add(LSTM(rnn_size, return_sequences=True))\n",
        "    model.add(Dropout(drop_rate))\n",
        "model.add(LSTM(rnn_size, return_sequences=False))\n",
        "model.add(Dropout(drop_rate))\n",
        "model.add(Dense(vocab_size, activation='softmax'))\n",
        "#model.add(Flatten())\n",
        "#model.add(TimeDistributed(Dense(vocab_size, activation=\"softmax\")))\n",
        "print(model.summary())\n"
      ]
    },
    {
      "cell_type": "code",
      "execution_count": 98,
      "metadata": {
        "colab": {
          "base_uri": "https://localhost:8080/",
          "height": 3562
        },
        "colab_type": "code",
        "id": "4paOBP3Xck3H",
        "outputId": "61a44c4c-16b8-4142-8d24-e9604fc4a371"
      },
      "outputs": [
        {
          "name": "stdout",
          "output_type": "stream",
          "text": [
            "WARNING:tensorflow:From /usr/local/lib/python3.6/dist-packages/tensorflow/python/ops/math_ops.py:3066: to_int32 (from tensorflow.python.ops.math_ops) is deprecated and will be removed in a future version.\n",
            "Instructions for updating:\n",
            "Use tf.cast instead.\n",
            "Epoch 1/100\n",
            " - 335s - loss: 3.7421 - acc: 0.0602\n",
            "Epoch 2/100\n",
            " - 321s - loss: 3.6845 - acc: 0.0680\n",
            "Epoch 3/100\n",
            " - 206s - loss: 3.6773 - acc: 0.0704\n",
            "Epoch 4/100\n",
            " - 207s - loss: 3.6950 - acc: 0.0666\n",
            "Epoch 5/100\n",
            " - 167s - loss: 3.6693 - acc: 0.0704\n",
            "Epoch 6/100\n",
            " - 167s - loss: 3.5626 - acc: 0.0852\n",
            "Epoch 7/100\n",
            " - 166s - loss: 3.4456 - acc: 0.1050\n",
            "Epoch 8/100\n",
            " - 166s - loss: 3.3663 - acc: 0.1183\n",
            "Epoch 9/100\n",
            " - 167s - loss: 3.3070 - acc: 0.1306\n",
            "Epoch 10/100\n",
            " - 169s - loss: 3.2115 - acc: 0.1484\n",
            "Epoch 11/100\n",
            " - 168s - loss: 3.1035 - acc: 0.1696\n",
            "Epoch 12/100\n",
            " - 165s - loss: 3.0248 - acc: 0.1844\n",
            "Epoch 13/100\n",
            " - 165s - loss: 2.9620 - acc: 0.1925\n",
            "Epoch 14/100\n",
            " - 166s - loss: 2.9403 - acc: 0.2042\n",
            "Epoch 15/100\n",
            " - 167s - loss: 2.8448 - acc: 0.2227\n",
            "Epoch 16/100\n",
            " - 165s - loss: 2.7810 - acc: 0.2358\n",
            "Epoch 17/100\n",
            " - 166s - loss: 2.7229 - acc: 0.2509\n",
            "Epoch 18/100\n",
            " - 164s - loss: 2.6565 - acc: 0.2717\n",
            "Epoch 19/100\n",
            " - 165s - loss: 2.6011 - acc: 0.2795\n",
            "Epoch 20/100\n",
            " - 164s - loss: 2.5431 - acc: 0.2933\n",
            "Epoch 21/100\n",
            " - 164s - loss: 2.4852 - acc: 0.3061\n",
            "Epoch 22/100\n",
            " - 164s - loss: 2.4139 - acc: 0.3192\n",
            "Epoch 23/100\n",
            " - 166s - loss: 2.3587 - acc: 0.3366\n",
            "Epoch 24/100\n",
            " - 164s - loss: 2.2964 - acc: 0.3489\n",
            "Epoch 25/100\n",
            " - 165s - loss: 2.2294 - acc: 0.3662\n",
            "Epoch 26/100\n",
            " - 165s - loss: 2.1757 - acc: 0.3783\n",
            "Epoch 27/100\n",
            " - 165s - loss: 2.1134 - acc: 0.3934\n",
            "Epoch 28/100\n",
            " - 166s - loss: 2.0418 - acc: 0.4137\n",
            "Epoch 29/100\n",
            " - 165s - loss: 1.9819 - acc: 0.4246\n",
            "Epoch 30/100\n",
            " - 165s - loss: 1.9141 - acc: 0.4460\n",
            "Epoch 31/100\n",
            " - 164s - loss: 1.8653 - acc: 0.4551\n",
            "Epoch 32/100\n",
            " - 165s - loss: 1.7933 - acc: 0.4751\n",
            "Epoch 33/100\n",
            " - 164s - loss: 1.7370 - acc: 0.4876\n",
            "Epoch 34/100\n",
            " - 165s - loss: 1.6804 - acc: 0.5040\n",
            "Epoch 35/100\n",
            " - 164s - loss: 1.6229 - acc: 0.5197\n",
            "Epoch 36/100\n",
            " - 166s - loss: 1.5777 - acc: 0.5334\n",
            "Epoch 37/100\n",
            " - 164s - loss: 1.5196 - acc: 0.5466\n",
            "Epoch 38/100\n",
            " - 166s - loss: 1.4622 - acc: 0.5623\n",
            "Epoch 39/100\n",
            " - 164s - loss: 1.4138 - acc: 0.5760\n",
            "Epoch 40/100\n",
            " - 166s - loss: 1.3852 - acc: 0.5838\n",
            "Epoch 41/100\n",
            " - 163s - loss: 1.3324 - acc: 0.6014\n",
            "Epoch 42/100\n",
            " - 166s - loss: 1.2851 - acc: 0.6122\n",
            "Epoch 43/100\n",
            " - 166s - loss: 1.2466 - acc: 0.6228\n",
            "Epoch 44/100\n",
            " - 164s - loss: 1.2069 - acc: 0.6331\n",
            "Epoch 45/100\n",
            " - 165s - loss: 1.1775 - acc: 0.6403\n",
            "Epoch 46/100\n",
            " - 164s - loss: 1.1451 - acc: 0.6518\n",
            "Epoch 47/100\n",
            " - 165s - loss: 1.0932 - acc: 0.6683\n",
            "Epoch 48/100\n",
            " - 163s - loss: 1.0749 - acc: 0.6715\n",
            "Epoch 49/100\n",
            " - 167s - loss: 1.0326 - acc: 0.6856\n",
            "Epoch 50/100\n",
            " - 164s - loss: 1.0130 - acc: 0.6925\n",
            "Epoch 51/100\n",
            " - 166s - loss: 0.9812 - acc: 0.7009\n",
            "Epoch 52/100\n",
            " - 164s - loss: 0.9557 - acc: 0.7071\n",
            "Epoch 53/100\n",
            " - 166s - loss: 0.9292 - acc: 0.7127\n",
            "Epoch 54/100\n",
            " - 163s - loss: 0.9114 - acc: 0.7149\n",
            "Epoch 55/100\n",
            " - 166s - loss: 0.8917 - acc: 0.7249\n",
            "Epoch 56/100\n",
            " - 164s - loss: 0.8670 - acc: 0.7338\n",
            "Epoch 57/100\n",
            " - 167s - loss: 0.8448 - acc: 0.7372\n",
            "Epoch 58/100\n",
            " - 164s - loss: 0.8157 - acc: 0.7487\n",
            "Epoch 59/100\n",
            " - 165s - loss: 0.8116 - acc: 0.7467\n",
            "Epoch 60/100\n",
            " - 164s - loss: 0.7903 - acc: 0.7534\n",
            "Epoch 61/100\n",
            " - 164s - loss: 0.7684 - acc: 0.7608\n",
            "Epoch 62/100\n",
            " - 165s - loss: 0.7646 - acc: 0.7604\n",
            "Epoch 63/100\n",
            " - 164s - loss: 0.7533 - acc: 0.7622\n",
            "Epoch 64/100\n",
            " - 166s - loss: 0.7413 - acc: 0.7671\n",
            "Epoch 65/100\n",
            " - 164s - loss: 0.7179 - acc: 0.7742\n",
            "Epoch 66/100\n",
            " - 166s - loss: 0.7121 - acc: 0.7744\n",
            "Epoch 67/100\n",
            " - 164s - loss: 0.7006 - acc: 0.7787\n",
            "Epoch 68/100\n",
            " - 166s - loss: 0.6781 - acc: 0.7889\n",
            "Epoch 69/100\n",
            " - 164s - loss: 0.6774 - acc: 0.7879\n",
            "Epoch 70/100\n",
            " - 165s - loss: 0.6560 - acc: 0.7945\n",
            "Epoch 71/100\n",
            " - 163s - loss: 0.6538 - acc: 0.7952\n",
            "Epoch 72/100\n",
            " - 165s - loss: 0.6349 - acc: 0.7985\n",
            "Epoch 73/100\n",
            " - 163s - loss: 0.6239 - acc: 0.8024\n",
            "Epoch 74/100\n",
            " - 164s - loss: 0.6187 - acc: 0.8044\n",
            "Epoch 75/100\n",
            " - 164s - loss: 0.6136 - acc: 0.8031\n",
            "Epoch 76/100\n",
            " - 164s - loss: 0.6085 - acc: 0.8070\n",
            "Epoch 77/100\n",
            " - 165s - loss: 0.6135 - acc: 0.8057\n",
            "Epoch 78/100\n",
            " - 164s - loss: 0.6026 - acc: 0.8058\n",
            "Epoch 79/100\n",
            " - 166s - loss: 0.5817 - acc: 0.8146\n",
            "Epoch 80/100\n",
            " - 164s - loss: 0.5733 - acc: 0.8178\n",
            "Epoch 81/100\n",
            " - 166s - loss: 0.5849 - acc: 0.8132\n",
            "Epoch 82/100\n",
            " - 164s - loss: 0.5741 - acc: 0.8195\n",
            "Epoch 83/100\n",
            " - 166s - loss: 0.5586 - acc: 0.8236\n",
            "Epoch 84/100\n",
            " - 164s - loss: 0.5777 - acc: 0.8163\n",
            "Epoch 85/100\n",
            " - 167s - loss: 0.5786 - acc: 0.8152\n",
            "Epoch 86/100\n",
            " - 165s - loss: 0.5632 - acc: 0.8209\n",
            "Epoch 87/100\n",
            " - 166s - loss: 0.5420 - acc: 0.8268\n",
            "Epoch 88/100\n",
            " - 165s - loss: 0.5349 - acc: 0.8288\n",
            "Epoch 89/100\n",
            " - 165s - loss: 0.5595 - acc: 0.8224\n",
            "Epoch 90/100\n",
            " - 165s - loss: 0.5601 - acc: 0.8218\n",
            "Epoch 91/100\n",
            " - 166s - loss: 0.5406 - acc: 0.8278\n",
            "Epoch 92/100\n",
            " - 167s - loss: 0.5327 - acc: 0.8293\n",
            "Epoch 93/100\n",
            " - 165s - loss: 0.5315 - acc: 0.8296\n",
            "Epoch 94/100\n",
            " - 167s - loss: 0.5398 - acc: 0.8250\n",
            "Epoch 95/100\n",
            " - 165s - loss: 0.5122 - acc: 0.8360\n",
            "Epoch 96/100\n",
            " - 168s - loss: 0.5362 - acc: 0.8273\n",
            "Epoch 97/100\n",
            " - 164s - loss: 0.5365 - acc: 0.8283\n",
            "Epoch 98/100\n",
            " - 165s - loss: 0.5413 - acc: 0.8285\n",
            "Epoch 99/100\n",
            " - 166s - loss: 0.5411 - acc: 0.8261\n",
            "Epoch 100/100\n",
            " - 166s - loss: 0.5418 - acc: 0.8276\n"
          ]
        },
        {
          "data": {
            "text/plain": [
              "<keras.callbacks.History at 0x7f64746f0358>"
            ]
          },
          "execution_count": 98,
          "metadata": {
            "tags": []
          },
          "output_type": "execute_result"
        }
      ],
      "source": [
        "# compile model\n",
        "model.compile(loss=\"categorical_crossentropy\", optimizer=Adam(),\n",
        "              metrics=['accuracy'])\n",
        "# fit model\n",
        "model.fit(X_train, y_train, epochs=100, verbose=2)"
      ]
    },
    {
      "cell_type": "code",
      "execution_count": null,
      "metadata": {
        "colab": {},
        "colab_type": "code",
        "id": "Cdk5B5_PrZ-h"
      },
      "outputs": [],
      "source": [
        "# save the model to file\n",
        "model.save('Model/modelGen.h5')\n",
        "\n",
        "# save the mapping\n",
        "dump(mapping, open('Dict/mapping.pkl', 'wb'))"
      ]
    },
    {
      "attachments": {},
      "cell_type": "markdown",
      "metadata": {
        "colab_type": "text",
        "id": "Y51ZoPcGl7e2"
      },
      "source": [
        "# **Generate text**"
      ]
    },
    {
      "attachments": {},
      "cell_type": "markdown",
      "metadata": {
        "colab_type": "text",
        "id": "9GyZnRdvyQVK"
      },
      "source": [
        "**model 2**"
      ]
    },
    {
      "cell_type": "code",
      "execution_count": null,
      "metadata": {
        "colab": {},
        "colab_type": "code",
        "id": "DlpCGdGdl-DW"
      },
      "outputs": [],
      "source": [
        "# load the model\n",
        "model = load_model('Model/modelGen.h5')\n",
        "\n",
        "# load the mapping\n",
        "mapping = load(open('Dict/mapping.pkl', 'rb'))"
      ]
    },
    {
      "cell_type": "code",
      "execution_count": null,
      "metadata": {
        "colab": {},
        "colab_type": "code",
        "id": "XBDeYayOl-K1"
      },
      "outputs": [],
      "source": [
        "# generate a sequence of characters with a language model\n",
        "def generate_seq(model, mapping, seq_length, seed_text, n_chars):\n",
        "\tin_text = seed_text\n",
        "\t# generate a fixed number of characters\n",
        "\tfor _ in range(n_chars):\n",
        "\t\t# encode the characters as integers\n",
        "\t\tencoded = [mapping[char] for char in in_text]\n",
        "\t\t# truncate sequences to a fixed length\n",
        "\t\tencoded = pad_sequences([encoded], maxlen=seq_length, truncating='pre')\n",
        "\t\t# one hot encode\n",
        "\t\t# encoded = to_categorical(encoded, num_classes=len(mapping))\n",
        "\t\t# predict character\n",
        "\t\tyhat = model.predict_classes(encoded, verbose=0)\n",
        "\t\t# reverse map integer to character\n",
        "\t\tout_char = ''\n",
        "\t\tfor char, index in mapping.items():\n",
        "\t\t\tif index == yhat:\n",
        "\t\t\t\tout_char = char\n",
        "\t\t\t\tbreak\n",
        "\t\t# append to input\n",
        "\t\tin_text += char\n",
        "\treturn in_text"
      ]
    },
    {
      "cell_type": "code",
      "execution_count": 219,
      "metadata": {
        "colab": {
          "base_uri": "https://localhost:8080/",
          "height": 242
        },
        "colab_type": "code",
        "id": "C9yPptFc3CHy",
        "outputId": "69771b67-5728-4a10-bbe3-f4569d448089"
      },
      "outputs": [
        {
          "name": "stdout",
          "output_type": "stream",
          "text": [
            "๏จะคุค้ฟั้วกบุบหยายพันจะไป\n",
            "ขุนไกรได้ฟังให้แม่เข้าไป\tหัวนักนั้นแล้วไปมาถึงมา\n",
            "ครั้นถึงลุกนั้นเป็นเห็นนาง\tเป็นเล่นหมุมขึงจะคลอน\n",
            "พลิ้งโร่งคร่อยว่องเมือนสงา\tพระเดชรับหวานอุกใสรรรยา\tพลังนั่นมีแล้วก็ไม่\n",
            "ทิ่งตระบื่นนี่ควาดรรดคร\tดังไร\n",
            "พระสวนั่นอกลามอุหมาบเพียงแต้\tปู่ย่าตายายสบายใจ\tข้าไกให้เกิดมาช้า\tอักเฉิดเห็นเห็นผิดตระสายร่วงาย\n",
            "แล้วก็กเที่นายส่านสองไม้มา\n",
            "เลี้ยงมาก็เดือนสนร้องไป\tขุนช้างเอาเห็นเห็นผิดกลับถัวนาน\n",
            "นางแต่ล้วหน้ายวลยองคลอนค์ผิงดนกลายดแล้วนิน\n",
            "เที่ยวถึงเย่นไม่\n",
            "อยู่ในแล้วก็ได้\n",
            "เที้ยงมาก็สมรับพลาน\n",
            "จะ\n"
          ]
        }
      ],
      "source": [
        "a = generate_seq(model, mapping, 64, '๏จะ', 500)\n",
        "print(a)"
      ]
    },
    {
      "attachments": {},
      "cell_type": "markdown",
      "metadata": {
        "colab_type": "text",
        "id": "vZYv5r7ElY-w"
      },
      "source": [
        "# **Evaluate model on dev set**"
      ]
    },
    {
      "cell_type": "code",
      "execution_count": 209,
      "metadata": {
        "colab": {
          "base_uri": "https://localhost:8080/",
          "height": 52
        },
        "colab_type": "code",
        "id": "N96apId2lkRu",
        "outputId": "67ac0c6a-c528-4dde-bee9-9c6998ccadb0"
      },
      "outputs": [
        {
          "name": "stdout",
          "output_type": "stream",
          "text": [
            "19936/19936 [==============================] - 25s 1ms/step\n"
          ]
        },
        {
          "data": {
            "text/plain": [
              "[5.542001793510841, 0.16873996789727128]"
            ]
          },
          "execution_count": 209,
          "metadata": {
            "tags": []
          },
          "output_type": "execute_result"
        },
        {
          "name": "stdout",
          "output_type": "stream",
          "text": [
            "\r   32/19936 [..............................] - ETA: 30s"
          ]
        }
      ],
      "source": [
        "model.evaluate(x_val, y_val)"
      ]
    },
    {
      "attachments": {},
      "cell_type": "markdown",
      "metadata": {
        "colab_type": "text",
        "id": "XYW2mOiUlqAt"
      },
      "source": [
        "# **Evaluate model on test set**"
      ]
    },
    {
      "cell_type": "code",
      "execution_count": 202,
      "metadata": {
        "colab": {
          "base_uri": "https://localhost:8080/",
          "height": 52
        },
        "colab_type": "code",
        "id": "7m3Bu0MRlzfe",
        "outputId": "5dbdcabd-fdc3-45bf-8e8c-adfc6a224d8b"
      },
      "outputs": [
        {
          "name": "stdout",
          "output_type": "stream",
          "text": [
            "19936/19936 [==============================] - 24s 1ms/step\n"
          ]
        },
        {
          "data": {
            "text/plain": [
              "[10.327602405609326, 0.020064205457463884]"
            ]
          },
          "execution_count": 202,
          "metadata": {
            "tags": []
          },
          "output_type": "execute_result"
        }
      ],
      "source": [
        "model.evaluate(X_test, y_test)"
      ]
    }
  ],
  "metadata": {
    "accelerator": "GPU",
    "colab": {
      "collapsed_sections": [],
      "name": "thaipoetrygenerator",
      "provenance": [],
      "version": "0.3.2"
    },
    "kernelspec": {
      "display_name": "Python 3",
      "name": "python3"
    },
    "language_info": {
      "codemirror_mode": {
        "name": "ipython",
        "version": 3
      },
      "file_extension": ".py",
      "mimetype": "text/x-python",
      "name": "python",
      "nbconvert_exporter": "python",
      "pygments_lexer": "ipython3",
      "version": "3.10.10"
    }
  },
  "nbformat": 4,
  "nbformat_minor": 0
}
